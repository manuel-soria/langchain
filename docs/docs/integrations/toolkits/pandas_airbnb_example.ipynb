{
 "cells": [
  {
   "attachments": {},
   "cell_type": "markdown",
   "id": "c81da886",
   "metadata": {},
   "source": [
    "# RAG in Pandas PoC - Airbnb example"
   ]
  },
  {
   "cell_type": "code",
   "execution_count": 2,
   "id": "0cdd9bf5",
   "metadata": {},
   "outputs": [],
   "source": [
    "from langchain.agents import create_pandas_dataframe_agent\n",
    "from langchain.chat_models import ChatOpenAI\n",
    "from langchain.agents.agent_types import AgentType"
   ]
  },
  {
   "cell_type": "code",
   "execution_count": 3,
   "id": "d7ab8adf",
   "metadata": {},
   "outputs": [],
   "source": [
    "import os\n",
    "from getpass import getpass\n",
    "\n",
    "os.environ[\"OPENAI_API_KEY\"] = os.environ.get('OPENAI_API_KEY') or getpass(\"OpenAI API Key:\")"
   ]
  },
  {
   "cell_type": "code",
   "execution_count": 4,
   "id": "051ebe84",
   "metadata": {},
   "outputs": [],
   "source": [
    "from langchain.llms import OpenAI\n",
    "import pandas as pd\n",
    "\n",
    "airbnb_df = pd.read_csv('amsterdam_airbnb.csv', index_col=0)"
   ]
  },
  {
   "cell_type": "code",
   "execution_count": 5,
   "id": "4185ff46",
   "metadata": {},
   "outputs": [],
   "source": [
    "agent = create_pandas_dataframe_agent(\n",
    "    ChatOpenAI(temperature=0, model=\"gpt-4\"),\n",
    "    airbnb_df,\n",
    "    verbose=True,\n",
    "    agent_type=AgentType.OPENAI_FUNCTIONS\n",
    ")"
   ]
  },
  {
   "attachments": {},
   "cell_type": "markdown",
   "id": "7b08373f",
   "metadata": {},
   "source": [
    "Let's say we want to know if a passager survived. If we ask for exactly the passager's name, we get the answer:"
   ]
  },
  {
   "cell_type": "code",
   "execution_count": 9,
   "id": "81a631ec",
   "metadata": {},
   "outputs": [
    {
     "data": {
      "text/html": [
       "<div>\n",
       "<style scoped>\n",
       "    .dataframe tbody tr th:only-of-type {\n",
       "        vertical-align: middle;\n",
       "    }\n",
       "\n",
       "    .dataframe tbody tr th {\n",
       "        vertical-align: top;\n",
       "    }\n",
       "\n",
       "    .dataframe thead th {\n",
       "        text-align: right;\n",
       "    }\n",
       "</style>\n",
       "<table border=\"1\" class=\"dataframe\">\n",
       "  <thead>\n",
       "    <tr style=\"text-align: right;\">\n",
       "      <th></th>\n",
       "      <th>listing_url</th>\n",
       "      <th>name</th>\n",
       "      <th>description</th>\n",
       "      <th>host_identity_verified</th>\n",
       "      <th>host_is_superhost</th>\n",
       "      <th>beds</th>\n",
       "      <th>amenities</th>\n",
       "      <th>review_scores_rating</th>\n",
       "      <th>price</th>\n",
       "    </tr>\n",
       "  </thead>\n",
       "  <tbody>\n",
       "    <tr>\n",
       "      <th>0</th>\n",
       "      <td>https://www.airbnb.com/rooms/761411</td>\n",
       "      <td>Condo in Amsterdam · ★4.74 · 1 bedroom · 1 bed...</td>\n",
       "      <td>Really quiet, spacious and safe, a nice place ...</td>\n",
       "      <td>t</td>\n",
       "      <td>t</td>\n",
       "      <td>1.0</td>\n",
       "      <td>[\"Extra pillows and blankets\", \"Drying rack fo...</td>\n",
       "      <td>4.74</td>\n",
       "      <td>$61.00</td>\n",
       "    </tr>\n",
       "    <tr>\n",
       "      <th>1</th>\n",
       "      <td>https://www.airbnb.com/rooms/768274</td>\n",
       "      <td>Rental unit in Amsterdam · ★4.83 · 1 bedroom ·...</td>\n",
       "      <td>Our cool and spacious loft is perfect for a st...</td>\n",
       "      <td>t</td>\n",
       "      <td>f</td>\n",
       "      <td>1.0</td>\n",
       "      <td>[\"Extra pillows and blankets\", \"Drying rack fo...</td>\n",
       "      <td>4.83</td>\n",
       "      <td>$327.00</td>\n",
       "    </tr>\n",
       "    <tr>\n",
       "      <th>2</th>\n",
       "      <td>https://www.airbnb.com/rooms/768737</td>\n",
       "      <td>Boat in Amsterdam · ★4.82 · 1 bedroom · 1 bed ...</td>\n",
       "      <td>Room to rent in my houseboat. The room has a p...</td>\n",
       "      <td>t</td>\n",
       "      <td>t</td>\n",
       "      <td>1.0</td>\n",
       "      <td>[\"Extra pillows and blankets\", \"Drying rack fo...</td>\n",
       "      <td>4.82</td>\n",
       "      <td>$109.00</td>\n",
       "    </tr>\n",
       "    <tr>\n",
       "      <th>3</th>\n",
       "      <td>https://www.airbnb.com/rooms/771217</td>\n",
       "      <td>Houseboat in Amsterdam · ★5.0 · 3 bedrooms · 3...</td>\n",
       "      <td>Spacious houseboat in Amsterdam, suitable for ...</td>\n",
       "      <td>t</td>\n",
       "      <td>f</td>\n",
       "      <td>3.0</td>\n",
       "      <td>[\"Kitchen\", \"Fire extinguisher\", \"Heating\", \"S...</td>\n",
       "      <td>5.00</td>\n",
       "      <td>$290.00</td>\n",
       "    </tr>\n",
       "    <tr>\n",
       "      <th>4</th>\n",
       "      <td>https://www.airbnb.com/rooms/771343</td>\n",
       "      <td>Rental unit in Amsterdam · ★4.89 · 1 bedroom ·...</td>\n",
       "      <td>Royal Bed &amp; Coffee Room with a very comfortabl...</td>\n",
       "      <td>t</td>\n",
       "      <td>t</td>\n",
       "      <td>1.0</td>\n",
       "      <td>[\"Extra pillows and blankets\", \"Drying rack fo...</td>\n",
       "      <td>4.89</td>\n",
       "      <td>$150.00</td>\n",
       "    </tr>\n",
       "  </tbody>\n",
       "</table>\n",
       "</div>"
      ],
      "text/plain": [
       "                           listing_url   \n",
       "0  https://www.airbnb.com/rooms/761411  \\\n",
       "1  https://www.airbnb.com/rooms/768274   \n",
       "2  https://www.airbnb.com/rooms/768737   \n",
       "3  https://www.airbnb.com/rooms/771217   \n",
       "4  https://www.airbnb.com/rooms/771343   \n",
       "\n",
       "                                                name   \n",
       "0  Condo in Amsterdam · ★4.74 · 1 bedroom · 1 bed...  \\\n",
       "1  Rental unit in Amsterdam · ★4.83 · 1 bedroom ·...   \n",
       "2  Boat in Amsterdam · ★4.82 · 1 bedroom · 1 bed ...   \n",
       "3  Houseboat in Amsterdam · ★5.0 · 3 bedrooms · 3...   \n",
       "4  Rental unit in Amsterdam · ★4.89 · 1 bedroom ·...   \n",
       "\n",
       "                                         description host_identity_verified   \n",
       "0  Really quiet, spacious and safe, a nice place ...                      t  \\\n",
       "1  Our cool and spacious loft is perfect for a st...                      t   \n",
       "2  Room to rent in my houseboat. The room has a p...                      t   \n",
       "3  Spacious houseboat in Amsterdam, suitable for ...                      t   \n",
       "4  Royal Bed & Coffee Room with a very comfortabl...                      t   \n",
       "\n",
       "  host_is_superhost  beds                                          amenities   \n",
       "0                 t   1.0  [\"Extra pillows and blankets\", \"Drying rack fo...  \\\n",
       "1                 f   1.0  [\"Extra pillows and blankets\", \"Drying rack fo...   \n",
       "2                 t   1.0  [\"Extra pillows and blankets\", \"Drying rack fo...   \n",
       "3                 f   3.0  [\"Kitchen\", \"Fire extinguisher\", \"Heating\", \"S...   \n",
       "4                 t   1.0  [\"Extra pillows and blankets\", \"Drying rack fo...   \n",
       "\n",
       "   review_scores_rating    price  \n",
       "0                  4.74   $61.00  \n",
       "1                  4.83  $327.00  \n",
       "2                  4.82  $109.00  \n",
       "3                  5.00  $290.00  \n",
       "4                  4.89  $150.00  "
      ]
     },
     "execution_count": 9,
     "metadata": {},
     "output_type": "execute_result"
    }
   ],
   "source": [
    "airbnb_df.head()"
   ]
  },
  {
   "attachments": {},
   "cell_type": "markdown",
   "id": "7f3cb17f",
   "metadata": {},
   "source": [
    "Let's try to filter using semantic search over the name column:"
   ]
  },
  {
   "cell_type": "code",
   "execution_count": 16,
   "id": "6f488677",
   "metadata": {},
   "outputs": [
    {
     "data": {
      "text/plain": [
       "array(['Condo in Amsterdam · ★4.74 · 1 bedroom · 1 bed · 1 shared bath',\n",
       "       'Rental unit in Amsterdam · ★4.83 · 1 bedroom · 1 bed · 2 baths',\n",
       "       'Boat in Amsterdam · ★4.82 · 1 bedroom · 1 bed · 1.5 baths', ...,\n",
       "       'Houseboat in Amsterdam · ★New · 1 bedroom · 2 beds · 1 bath',\n",
       "       'Rental unit in Amsterdam · ★New · 4 bedrooms · 4 beds · 3 baths',\n",
       "       'Hotel in Amsterdam · ★New · 1 bedroom · 1 bed · 1 shared bath'],\n",
       "      dtype=object)"
      ]
     },
     "execution_count": 16,
     "metadata": {},
     "output_type": "execute_result"
    }
   ],
   "source": [
    "names = airbnb_df['name'].unique()\n",
    "names"
   ]
  },
  {
   "cell_type": "code",
   "execution_count": 17,
   "id": "efccbdd3",
   "metadata": {},
   "outputs": [],
   "source": [
    "from langchain.embeddings import OpenAIEmbeddings\n",
    "\n",
    "embeddings_model = OpenAIEmbeddings()\n",
    "\n",
    "\n",
    "unique_names = airbnb_df['name'].unique()\n",
    "name_embeddings = embeddings_model.embed_documents(unique_names)\n",
    "\n",
    "name_embedding_dict = dict(zip(unique_names, name_embeddings))\n",
    "\n",
    "airbnb_df['name_embedding'] = airbnb_df['name'].map(name_embedding_dict)\n"
   ]
  },
  {
   "attachments": {},
   "cell_type": "markdown",
   "id": "238fca5a",
   "metadata": {},
   "source": [
    "Now we will find airbnb posts with the name similar to some semantic meaning:"
   ]
  },
  {
   "cell_type": "code",
   "execution_count": 30,
   "id": "e00ef9ad",
   "metadata": {},
   "outputs": [
    {
     "data": {
      "text/plain": [
       "2501    Nature lodge in Amsterdam · ★4.91 · 1 bedroom ...\n",
       "2362    Place to stay in Amsterdam · 1 bedroom · 2 bed...\n",
       "2459    Nature lodge in Amsterdam · ★4.89 · 1 bedroom ...\n",
       "4961    casa particular in Amsterdam · ★4.13 · 1 bedro...\n",
       "5315       Yurt in Amsterdam · 1 bedroom · 1 bed · 1 bath\n",
       "Name: name, dtype: object"
      ]
     },
     "execution_count": 30,
     "metadata": {},
     "output_type": "execute_result"
    }
   ],
   "source": [
    "from scipy.spatial.distance import cosine\n",
    "\n",
    "embed_query = embeddings_model.embed_query(\"romantic place\")\n",
    "\n",
    "airbnb_df['similarity'] = airbnb_df['name_embedding'].apply(lambda x: (1 - cosine(x, embed_query)))\n",
    "\n",
    "top_5_rows = airbnb_df.nlargest(5, 'similarity')\n",
    "top_5_rows['name']"
   ]
  }
 ],
 "metadata": {
  "kernelspec": {
   "display_name": "Python 3 (ipykernel)",
   "language": "python",
   "name": "python3"
  },
  "language_info": {
   "codemirror_mode": {
    "name": "ipython",
    "version": 3
   },
   "file_extension": ".py",
   "mimetype": "text/x-python",
   "name": "python",
   "nbconvert_exporter": "python",
   "pygments_lexer": "ipython3",
   "version": "3.10.10"
  }
 },
 "nbformat": 4,
 "nbformat_minor": 5
}
